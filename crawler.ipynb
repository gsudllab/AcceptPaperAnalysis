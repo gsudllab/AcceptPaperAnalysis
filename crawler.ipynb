{
 "cells": [
  {
   "cell_type": "markdown",
   "metadata": {},
   "source": [
    "# import library"
   ]
  },
  {
   "cell_type": "code",
   "execution_count": 192,
   "metadata": {
    "ExecuteTime": {
     "end_time": "2019-09-08T02:30:24.086464Z",
     "start_time": "2019-09-08T02:30:24.083082Z"
    }
   },
   "outputs": [],
   "source": [
    "import json\n",
    "import requests\n",
    "from bs4 import BeautifulSoup\n",
    "from collections import defaultdict"
   ]
  },
  {
   "cell_type": "markdown",
   "metadata": {},
   "source": [
    "# Get html"
   ]
  },
  {
   "cell_type": "code",
   "execution_count": 193,
   "metadata": {
    "ExecuteTime": {
     "end_time": "2019-09-08T02:30:25.659360Z",
     "start_time": "2019-09-08T02:30:25.652444Z"
    }
   },
   "outputs": [],
   "source": [
    "def get_html(url):#获得页面html代码\n",
    "    req = requests.get(url)\n",
    "    html = req.text\n",
    "    return html\n",
    "\n",
    "def crawl_list(url, pattern):\n",
    "    html = get_html(url)\n",
    "    soup = BeautifulSoup(html, 'lxml')\n",
    "    title = soup.find('main')\n"
   ]
  },
  {
   "cell_type": "code",
   "execution_count": 194,
   "metadata": {
    "ExecuteTime": {
     "end_time": "2019-09-08T02:30:29.080520Z",
     "start_time": "2019-09-08T02:30:28.591570Z"
    }
   },
   "outputs": [],
   "source": [
    "url = \"https://neurips.cc/Conferences/2019/AcceptedPapersInitial\"\n",
    "html = get_html(url)"
   ]
  },
  {
   "cell_type": "markdown",
   "metadata": {},
   "source": [
    "# Find target elements"
   ]
  },
  {
   "cell_type": "code",
   "execution_count": 195,
   "metadata": {
    "ExecuteTime": {
     "end_time": "2019-09-08T02:30:33.956668Z",
     "start_time": "2019-09-08T02:30:33.943002Z"
    }
   },
   "outputs": [],
   "source": [
    "# Suppose I can always use three step to find target elements\n",
    "# 1. Find the first element contains paper\n",
    "# 2. Find the container contains all papers, For ICLR which uses different containers for oral/poster/reject, just find all oral papers, or all poster papers in one step.\n",
    "# 3. List those elements\n",
    "\n",
    "def find_target_elements(html, pattern):\n",
    "    eles = pattern.split(\"/\")\n",
    "    soup = BeautifulSoup(html, 'lxml')\n",
    "    lists = soup.select(eles[0])\n",
    "    for l in lists:\n",
    "        if l.text == first:\n",
    "            break\n",
    "\n",
    "    if eles[1] == '..':\n",
    "        container = l\n",
    "        for i in range(len(eles[0].split(\">\"))):\n",
    "            container = container.parent\n",
    "    if '@' in eles[2]:\n",
    "        selector, index = eles[2].split(\"@\")\n",
    "    container_lists = container.select(selector)\n",
    "    if ':' not in index:\n",
    "        nodes = container_lists[int(index) - 1]\n",
    "    else:\n",
    "        start, end = index.split(\":\")\n",
    "        start = (int(start) - 1) if start else 0\n",
    "        end = (int(end) - 1) if end else len(container_lists)\n",
    "        nodes = container_lists[start:end]\n",
    "    return nodes"
   ]
  },
  {
   "cell_type": "code",
   "execution_count": 196,
   "metadata": {
    "ExecuteTime": {
     "end_time": "2019-09-08T02:30:37.310594Z",
     "start_time": "2019-09-08T02:30:37.020469Z"
    }
   },
   "outputs": [],
   "source": [
    "nodes = find_target_elements(html, \"p>b/../p@3:\")"
   ]
  },
  {
   "cell_type": "markdown",
   "metadata": {},
   "source": [
    "# Parser\n",
    "\n",
    "Usually the regular expression is not power enough"
   ]
  },
  {
   "cell_type": "code",
   "execution_count": 220,
   "metadata": {
    "ExecuteTime": {
     "end_time": "2019-09-08T02:55:39.597402Z",
     "start_time": "2019-09-08T02:55:39.593217Z"
    }
   },
   "outputs": [],
   "source": [
    "pass_and = ['science and technology', 'technology and design', 'aeronautics and astronautics', 'mathematics and computer', \n",
    "            'posts and telecommunications', 'finance and economics', 'engineering and management', 'processing and speech', 'business and economics',\n",
    "            'analysis and navigation', 'electronics and telecommunications', 'economics and statistic'\n",
    "           ]"
   ]
  },
  {
   "cell_type": "code",
   "execution_count": 197,
   "metadata": {
    "ExecuteTime": {
     "end_time": "2019-09-08T02:30:41.540650Z",
     "start_time": "2019-09-08T02:30:41.534815Z"
    }
   },
   "outputs": [],
   "source": [
    "def author_parser(text):\n",
    "    institute_list = []\n",
    "    left = 0\n",
    "    institute = \"\"\n",
    "    for c in text:\n",
    "        if c == '(':\n",
    "            left += 1\n",
    "            if left == 1:\n",
    "                institute = institute.strip()\n",
    "                institute_list.append(institute)\n",
    "                institute = \"\"\n",
    "        if c == ')':\n",
    "            left -= 1\n",
    "            continue\n",
    "        if left > 0 or c == '·':\n",
    "            continue\n",
    "        institute += c\n",
    "    return institute_list\n"
   ]
  },
  {
   "cell_type": "code",
   "execution_count": 294,
   "metadata": {
    "ExecuteTime": {
     "end_time": "2019-09-08T03:41:54.238509Z",
     "start_time": "2019-09-08T03:41:54.218839Z"
    }
   },
   "outputs": [],
   "source": [
    "def institute_parser(text):\n",
    "    institute_list = []\n",
    "    left = 0\n",
    "    institute = [\"\"]\n",
    "    for i, c in enumerate(text):\n",
    "        if c == '(':\n",
    "            left += 1\n",
    "            if left == 1:\n",
    "                continue\n",
    "        elif c == ')':\n",
    "            left -= 1\n",
    "            if left > 0:\n",
    "                continue\n",
    "            if left == 0:\n",
    "                institute[-1] = institute[-1].replace('  ', ' ').replace(', China', '').strip()\n",
    "                institute_list.append(institute)\n",
    "                institute = [\"\"]\n",
    "        if left == 0 or left > 1 or c == '\"':\n",
    "            continue\n",
    "        if c in ['&', '/']:\n",
    "            if i - 2 > 0 and c == '&' and text[i-1:i+2] == 'A&M':\n",
    "                institute[-1] += c\n",
    "                continue\n",
    "            institute[-1] = institute[-1].replace('  ', ' ').replace(', China', '').strip()\n",
    "            institute.append('')\n",
    "            continue\n",
    "        institute[-1] += c\n",
    "    \n",
    "    for j, e in enumerate(institute_list):\n",
    "        for i, c in enumerate(e):\n",
    "            if len(c) < 2:\n",
    "                institute_list[j][i] = ''\n",
    "            if ' and ' in c:\n",
    "                try:\n",
    "                    phrase = re.findall('(\\w+ and +\\w+)', c)[0].lower()\n",
    "                except:\n",
    "                    if 'Brains, Minds, and Machines' not in c:\n",
    "                        raise IndexError\n",
    "                    else:\n",
    "                        continue\n",
    "                if phrase in pass_and:\n",
    "                    continue\n",
    "                else:\n",
    "                    index = c.find(' and ')\n",
    "                    new_one = c[index+5:]\n",
    "                    institute_list[j][i] = c[:index]\n",
    "                    institute_list[j].append(new_one)\n",
    "    return institute_list\n"
   ]
  },
  {
   "cell_type": "code",
   "execution_count": 288,
   "metadata": {
    "ExecuteTime": {
     "end_time": "2019-09-08T03:41:00.361771Z",
     "start_time": "2019-09-08T03:41:00.352781Z"
    }
   },
   "outputs": [
    {
     "name": "stdout",
     "output_type": "stream",
     "text": [
      "[['Texas A&M University'], ['Rice University'], ['Texas A&M University'], ['Rice University'], ['Rice University'], ['Rice University'], ['TAMU']]\n",
      "[['Cornell University', 'Google Brain'], ['Google Brain'], ['Cornell University'], ['Google Research, Brain Team']]\n",
      "[['Fudan University'], ['HKUST'], ['The Hong Kong University of Science and Technology'], ['Hong Kong University of Science and Technology, Hong Kong']]\n",
      "[['MIT'], ['MIT'], ['MIT'], ['Harvard', 'Center for Brains, Minds, and Machines'], ['MIT'], ['MIT']]\n"
     ]
    }
   ],
   "source": [
    "e = 'Ziyu Jiang (Texas A&M University) · Yue Wang (Rice University) · Xiaohan Chen (Texas A&M University) · Pengfei Xu (Rice University) · Yang Zhao (Rice University) · Yingyan Lin (Rice University) · Zhangyang Wang (TAMU)'\n",
    "# aut = author_parser(e)\n",
    "inst = institute_parser(e)\n",
    "print(inst)\n",
    "e='Maithra Raghu (Cornell University and Google Brain) · Chiyuan Zhang (Google Brain) · Jon Kleinberg (Cornell University) · Samy Bengio (Google Research, Brain Team)'\n",
    "inst = institute_parser(e)\n",
    "print(inst)\n",
    "\n",
    "e='zengfeng Huang (Fudan University) · Ziyue Huang (HKUST) · Yilei WANG (The Hong Kong University of Science and Technology) · Ke Yi (\" Hong Kong University of Science and Technology, Hong Kong\")'\n",
    "inst = institute_parser(e)\n",
    "print(inst)\n",
    "\n",
    "e='Kevin Ellis (MIT) · Maxwell Nye (MIT) · Yewen Pu (MIT) · Felix Sosa (Harvard and Center for Brains, Minds, and Machines) · Josh Tenenbaum (MIT) · Armando Solar-Lezama (MIT)'\n",
    "inst = institute_parser(e)\n",
    "print(inst)"
   ]
  },
  {
   "cell_type": "markdown",
   "metadata": {},
   "source": [
    "# Extract item"
   ]
  },
  {
   "cell_type": "code",
   "execution_count": 295,
   "metadata": {
    "ExecuteTime": {
     "end_time": "2019-09-08T03:41:57.292836Z",
     "start_time": "2019-09-08T03:41:57.277646Z"
    },
    "code_folding": [
     6
    ]
   },
   "outputs": [],
   "source": [
    "def extract_item(element, rules):\n",
    "    paper_item = {}\n",
    "    extra_item = []\n",
    "    for key in rules:\n",
    "        if isinstance(rules[key], str):\n",
    "            paper_item[key] = element.select(rules[key])[0].text\n",
    "        elif isinstance(rules[key], list):\n",
    "            text = element.select(rules[key][0])[0].text\n",
    "\n",
    "            # Let's only consider author and/or institute\n",
    "            if key == 'authors':\n",
    "                if isinstance(rules[key][1]['author'], str):\n",
    "                    author_list = re.findall(rules[key][1]['author'], text)\n",
    "                else:\n",
    "                    author_list = rules[key][1]['author'](text)\n",
    "                if isinstance(rules[key][1]['institute'], str):\n",
    "                    institute_list = re.findall(rules[key][1]['institute'], text)\n",
    "                else:\n",
    "                    institute_list = rules[key][1]['institute'](text)\n",
    "                item = tuple(zip(author_list, institute_list))\n",
    "                assert len(author_list) == len(institute_list)\n",
    "            else:\n",
    "                print(\"not authors\")\n",
    "                raise NotImplementedError\n",
    "            paper_item[key] = item\n",
    "    return paper_item"
   ]
  },
  {
   "cell_type": "code",
   "execution_count": 296,
   "metadata": {
    "ExecuteTime": {
     "end_time": "2019-09-08T03:41:58.751138Z",
     "start_time": "2019-09-08T03:41:58.176962Z"
    }
   },
   "outputs": [],
   "source": [
    "# (Facebook AI research (FAIR)) makes regular expression fail\n",
    "rules = {'title': 'p>b', 'authors': ['i', {'author': ' ?([^(·]+) \\([^(]+\\)', 'institute': '[^(·]+ \\(([^(]+)\\)'}]}\n",
    "rules = {'title': 'p>b', 'authors': ['i', {'author': author_parser, 'institute': institute_parser}]}\n",
    "\n",
    "paper_set = {}\n",
    "for element in nodes:\n",
    "    item = extract_item(element, rules)\n",
    "    title = item.pop('title')\n",
    "    paper_set[title] = item"
   ]
  },
  {
   "cell_type": "code",
   "execution_count": 291,
   "metadata": {
    "ExecuteTime": {
     "end_time": "2019-09-08T03:41:04.491969Z",
     "start_time": "2019-09-08T03:41:04.487719Z"
    }
   },
   "outputs": [
    {
     "data": {
      "text/plain": [
       "1429"
      ]
     },
     "execution_count": 291,
     "metadata": {},
     "output_type": "execute_result"
    }
   ],
   "source": [
    "len(paper_set)"
   ]
  },
  {
   "cell_type": "markdown",
   "metadata": {},
   "source": [
    "# Clean Institute"
   ]
  },
  {
   "cell_type": "code",
   "execution_count": 275,
   "metadata": {
    "ExecuteTime": {
     "end_time": "2019-09-08T03:29:05.960931Z",
     "start_time": "2019-09-08T03:29:05.953711Z"
    }
   },
   "outputs": [],
   "source": [
    "def check_2_and(paper_set):\n",
    "    for e in paper_set:\n",
    "        for a in paper_set[e]['authors']:\n",
    "            a = list(a)\n",
    "            for i, c in enumerate(a[1]):\n",
    "                if 0 < len(c) < 2:\n",
    "                    print(c, a)\n",
    "                if ' and ' in c:\n",
    "                    print(c)"
   ]
  },
  {
   "cell_type": "code",
   "execution_count": 297,
   "metadata": {
    "ExecuteTime": {
     "end_time": "2019-09-08T03:42:01.841239Z",
     "start_time": "2019-09-08T03:42:01.831933Z"
    }
   },
   "outputs": [],
   "source": [
    "import re\n",
    "phrases = []\n",
    "for e in paper_set:\n",
    "    for a in paper_set[e]['authors']:\n",
    "        for c in a[1]:\n",
    "            if ',' in c:\n",
    "                phrases.append(c)\n"
   ]
  },
  {
   "cell_type": "code",
   "execution_count": 298,
   "metadata": {
    "ExecuteTime": {
     "end_time": "2019-09-08T03:42:02.531316Z",
     "start_time": "2019-09-08T03:42:02.525690Z"
    }
   },
   "outputs": [
    {
     "data": {
      "text/plain": [
       "Counter({'University of California, Davis': 5,\n",
       "         'IBM, Almaden': 2,\n",
       "         'Karlsruhe Institute of Technology , Germany': 1,\n",
       "         'Fondazione Bruno Kessler, Italy': 1,\n",
       "         'University of California, Los Angeles': 17,\n",
       "         'University of California, Merced': 2,\n",
       "         'University of Massachusetts, Amherst': 6,\n",
       "         'Mila, Université de Montréal': 6,\n",
       "         'Data61, the Australian National University': 2,\n",
       "         'IHPC, A*STAR': 1,\n",
       "         'Higher School of Economics, Samsung AI Center, Moscow': 4,\n",
       "         'Google Research, Brain Team': 3,\n",
       "         'Department of Industrial Systems Engineering and Management, National University of Singapore': 1,\n",
       "         'University of Maryland, College Park': 7,\n",
       "         'MIT, HMS': 1,\n",
       "         'National Laboratory of Pattern Recognition, Institute of Automation, Chinese Academy of Sciences': 1,\n",
       "         'Institute of Automation,Chinese Academy of Science': 1,\n",
       "         'Institute of Automation, Chinese Academy of Sciences': 9,\n",
       "         'Institute of Computing Technology, CAS': 1,\n",
       "         'ICT, CAS': 1,\n",
       "         'Institute of Computing Technology, Chinese Academy of Sciences': 3,\n",
       "         'School of Computer Science, National University of Defense Technology': 1,\n",
       "         'Laboratoire de Mathematiques d’Orsay, Univ. Paris-Sud,': 1,\n",
       "         'University of Washington, Seattle': 4,\n",
       "         'Preferred Networks, Inc.': 5,\n",
       "         'Computer Vision Lab, ETH Zurich': 1,\n",
       "         'University of Rochester, Tencent AI lab': 4,\n",
       "         'University of Illinois, Urbana Champaign': 1,\n",
       "         'Indian Institute of Science, Bangalore, India': 1,\n",
       "         'Indian Institute of Science, Bangalore': 1,\n",
       "         'IBM Research, MIT-IBM Watson AI Lab': 6,\n",
       "         'Siemens Corporate Technology, Germany': 1,\n",
       "         'Megvii, Face++': 2,\n",
       "         'University of California, San Diego': 10,\n",
       "         'Institute for Interdisciplinary Information Sciences, Tsinghua University': 1,\n",
       "         'Tencent Technology Co.,Ltd': 1,\n",
       "         'Weizmann Institute of Science, Israel': 2,\n",
       "         'University of Cambridge, Alan Turing Institute': 4,\n",
       "         'Data61, CSIRO': 1,\n",
       "         'UC Berkeley, FAIR, CMU': 2,\n",
       "         'University of Wisconsin, Madison': 3,\n",
       "         'Noah’s Ark Laboratory, Huawei Technologies Co., Ltd.': 1,\n",
       "         'Institue of Automation, Chinese Academy of Science': 1,\n",
       "         'Institute of Automation, Chinese Academy of Science': 1,\n",
       "         'NLPR, CASIA': 1,\n",
       "         'University of Washington, Allen Institute for Artificial Intelligence': 3,\n",
       "         'CNAM, Paris': 1,\n",
       "         'Indian Institute of Technology, Hyderabad': 1,\n",
       "         'University College London, Athens University of Economics': 2,\n",
       "         'SECE, Peking University': 1,\n",
       "         'Shenzhen Graduate School, Peking University': 1,\n",
       "         'SECE, Shenzhen Graduate School, Peking University': 1,\n",
       "         'NTT Service Evolution Laboratories, NTT Corporation': 1,\n",
       "         'NTT Service Evolution Laboratories, NTT Corporation, Japan': 1,\n",
       "         'Fudan University, Shanghai;': 1,\n",
       "         'Montreal Institute for Learning Algorithms, École Polytechnique, Université de Montréal': 1,\n",
       "         'EPFL, RIKEN': 1,\n",
       "         'The University of Chicago, Booth School of Business': 1,\n",
       "         'University of Oxford, DeepMind': 6,\n",
       "         'EPFL, Switzerland': 1,\n",
       "         'Sapienza, University of Rome': 1,\n",
       "         'University of California, Irvine': 1,\n",
       "         'Institute for Neural Computation, UCSD': 1,\n",
       "         'Univ Michigan, Ann Arbor': 1,\n",
       "         'University of California, Berkeley': 12,\n",
       "         'Key Laboratory of Intelligent Information Processing, Institute of Computing Technology, Chinese Academy of Sciences': 3,\n",
       "         'SKLOIS, Institute of Information Engineering, Chinese Academy of Sciences; SCS, University of Chinese Academy of Sciences': 5,\n",
       "         'Institute of Information Engineering, Chinese Academy of Sciences': 4,\n",
       "         'Nanyang Technological University, Singapore': 2,\n",
       "         'D Labs., Inc.': 1,\n",
       "         'D Labs., Inc': 1,\n",
       "         'CNAM, Paris, France': 1,\n",
       "         'National University of Singapore,': 1,\n",
       "         'Indian Institute of Technology , Dhanbad': 1,\n",
       "         'Tokyo Institute of Technology, AIST- Tokyo Tech Real World Big-Data Computation Open Innovation Laboratory , National Institute of Advanced Industrial Science and Technology': 1,\n",
       "         'DeepMind, UCL': 1,\n",
       "         'MILA, Polytechnique Montréal, Element AI': 2,\n",
       "         'University of Copenhagen, Denmark': 1,\n",
       "         'Danish Center for Sleep Medicine, Rigshospitalet': 1,\n",
       "         'INRIA, Ecole Normale Superieure': 4,\n",
       "         'IIIS, Tsinghua Univeristy': 1,\n",
       "         'Gatsby Unit, UCL': 8,\n",
       "         'Ecole Polytechnique, IPP Paris': 2,\n",
       "         'University of Maryland, USA': 1,\n",
       "         'University of Californian, Berkeley': 1,\n",
       "         'MILA, University of Montreal': 2,\n",
       "         'Mila, University of Montreal, MSR Montreal': 2,\n",
       "         'EECS, UC Berkeley': 2,\n",
       "         'University of California, Santa Barbara': 3,\n",
       "         'Shenzhen Institutes of Advanced Technology,Chinese Academy of Sciences': 1,\n",
       "         'IBM Research AI, India': 2,\n",
       "         'University of Sydney, Technology': 1,\n",
       "         'Department of Physics, Hong Kong University of Science and Technology': 1,\n",
       "         'The Wharton School, University of Pennsylvania': 2,\n",
       "         'University of California, Berkley': 1,\n",
       "         'None, formerly Princeton University': 1,\n",
       "         'ETHZ, University of Bologna': 1,\n",
       "         'The Chinese University of Hong Kong, Shenzhen': 1,\n",
       "         'Technical University of Munich, Munich, Germany': 1,\n",
       "         'Visual Neuroscience Lab, International School for Advanced Studies': 1,\n",
       "         'Signal Processing and Speech Communication Laboratory, Graz, Austria': 1,\n",
       "         'Hong Kong University of Science and Technology, Hong Kong': 1,\n",
       "         'MLCB, D-BSSE, ETH Zurich': 1,\n",
       "         'Robert Bosch GmbH, Bosch Center for Artificial Intelligence': 1,\n",
       "         'Key Lab of High Confidence Software Technologies , Ministry o': 2,\n",
       "         'National Laboratory of Pattern recognition , Institute of Automation of Chinese Academy of Sciences': 1,\n",
       "         'ENSAE, Institut Polytechnique de Paris': 1,\n",
       "         'École normale supérieure, Paris': 1,\n",
       "         'Institut de Physique théorique, Paris': 1,\n",
       "         'MIT-IBM Watson AI Lab, IBM Research AI': 1,\n",
       "         'Université de Toulouse, ONERA The French Aerospace Lab': 1,\n",
       "         'U. Colorado, Boulder': 3,\n",
       "         'Bern University, Switzerland': 1,\n",
       "         'Parietal Team, INRIA': 2,\n",
       "         'Huawei Technologies Co., Ltd': 1,\n",
       "         'Delft University of Technology, Netherlands': 1,\n",
       "         'DePaul University, Chicago': 1,\n",
       "         'CNRS, INRIA, Univ. Lille': 1,\n",
       "         'University of Toronto, Vector Institute': 1,\n",
       "         'Twitter, Inc.': 1,\n",
       "         'University of Texas, Austin': 5,\n",
       "         'MERL , Cambridge MA': 1,\n",
       "         'University of California, Riverside, USA': 1,\n",
       "         'TAU, GOOGLE': 1,\n",
       "         'Army Research Laboratory, Adelphi': 2,\n",
       "         'University at Buffalo, the State University of New York': 2,\n",
       "         'Department of Biomedical Engineering, University of Basel': 1,\n",
       "         'Mila, University of Montreal': 1,\n",
       "         'Center for Brains, Minds, and Machines': 1,\n",
       "         'Indiana University, Bloomington': 1,\n",
       "         'UNIVERSITY OF ILLINOIS, URBANA-CH': 1,\n",
       "         'AG Bethge, University of Tübingen': 2,\n",
       "         'University of Toronto, NVIDIA': 1,\n",
       "         'Cognitive Neuroscience Center, CNRS': 1,\n",
       "         'Cambridge, Alan Turing Institute': 1,\n",
       "         'Nanyang Technology University, Singapore': 1,\n",
       "         'Department of Automation, Tsinghua University': 2,\n",
       "         'NEC Corporation,   University of Tokyo': 3,\n",
       "         'Chuo University, JST PRESTO, RIKEN AIP': 2,\n",
       "         'Awecom, Inc': 1,\n",
       "         'MIT, TAU': 1,\n",
       "         'School of Mathematics, Monash University': 1,\n",
       "         'MILA, UdeM': 1,\n",
       "         'McGill University, Mila': 1,\n",
       "         'Institute of Information Engineering, CAS': 1,\n",
       "         'Assist. Prof, EE, IIT Bombay': 1,\n",
       "         'LTCI, Télécom ParisTech': 1,\n",
       "         'Qualcomm, University of Amsterdam': 1,\n",
       "         'KU Leuven, Belgium': 2,\n",
       "         'Aarhus University, MADALGO': 2,\n",
       "         'Indian Institute Of Technology, Delhi': 1,\n",
       "         \"Huawei Technologies, Noah's Ark\": 1,\n",
       "         'Max-Planck Institute for Intelligent Systems, Tuebingen': 1,\n",
       "         'Institute for Advanced Study, Princeton': 2,\n",
       "         'University of New South Wales, Sydney': 1,\n",
       "         'University of Technology, Sydney, Australia': 1,\n",
       "         'Imperial College, London': 1,\n",
       "         'Microsoft Research, Redmond, WA': 1,\n",
       "         'PACM, Princeton University': 1,\n",
       "         'Walmart Labs, NYU': 1,\n",
       "         'The Hebrew University of Jerusalem, Israel': 1,\n",
       "         'LIT AI Lab, Institute for Machine Learning, Johannes Kepler University Linz, Austria': 3,\n",
       "         'MSR, Redmond': 1,\n",
       "         'Samsung AI Center, Moscow': 1,\n",
       "         'IEOR Department, Columbia University': 1,\n",
       "         'Carnegie Mellon University, Language Technologies Institute': 1,\n",
       "         'University of Illinois, Urbana-Champaign': 1,\n",
       "         'Flatiron Institute, Simons Foundation': 1,\n",
       "         'Swiss AI Lab, IDSIA - NNAISENSE': 1,\n",
       "         'IBM Research, NY': 3,\n",
       "         'Santa Cruz Institute for Particle Physics, University of California, Santa Cruz': 2,\n",
       "         'Informatica, Amsterdam': 4,\n",
       "         'ISIR, Sorbonne Université': 1,\n",
       "         \"Université Côte d'Azur, 3IA Côte d'Azur\": 1,\n",
       "         'IRISA, Universite Bretagne-Sud': 1,\n",
       "         'Lyrebird-AI, Mila': 1,\n",
       "         'MILA, Lyrebird': 1,\n",
       "         'LYREBIRD, MILA': 1,\n",
       "         'University of California, Santa Cruz': 1,\n",
       "         'ETH Zurich, Switzerland': 2,\n",
       "         'university of Michigan, Ann Arbor': 1,\n",
       "         'Cornell Tech, Cornell University': 1,\n",
       "         'Reason Lab, Faculty of Sciences, University of Lisbon': 2,\n",
       "         'iMinds, Gent University,': 1})"
      ]
     },
     "execution_count": 298,
     "metadata": {},
     "output_type": "execute_result"
    }
   ],
   "source": [
    "Counter(phrases)"
   ]
  },
  {
   "cell_type": "code",
   "execution_count": 299,
   "metadata": {
    "ExecuteTime": {
     "end_time": "2019-09-08T03:42:41.321485Z",
     "start_time": "2019-09-08T03:42:40.104106Z"
    }
   },
   "outputs": [
    {
     "name": "stdout",
     "output_type": "stream",
     "text": [
      "1429\n"
     ]
    }
   ],
   "source": [
    "def main(url):\n",
    "\n",
    "    html = get_html(url)\n",
    "\n",
    "    nodes = find_target_elements(html, \"p>b/../p@3:\")\n",
    "    rules = {'title': 'p>b', 'authors': ['i', {'author': author_parser, 'institute': institute_parser}]}\n",
    "\n",
    "    paper_set = {}\n",
    "    for element in nodes:\n",
    "        item = extract_item(element, rules)\n",
    "        title = item.pop('title')\n",
    "        paper_set[title] = item\n",
    "    return paper_set\n",
    "\n",
    "url = \"https://neurips.cc/Conferences/2019/AcceptedPapersInitial\"\n",
    "paper_set = main(url)\n",
    "print(len(paper_set))\n",
    "\n",
    "with open('data/neurips2019.json', 'w') as fp:\n",
    "    json.dump(paper_set, fp, indent=4)"
   ]
  },
  {
   "cell_type": "code",
   "execution_count": null,
   "metadata": {},
   "outputs": [],
   "source": []
  }
 ],
 "metadata": {
  "kernelspec": {
   "display_name": "Python 3",
   "language": "python",
   "name": "python3"
  },
  "language_info": {
   "codemirror_mode": {
    "name": "ipython",
    "version": 3
   },
   "file_extension": ".py",
   "mimetype": "text/x-python",
   "name": "python",
   "nbconvert_exporter": "python",
   "pygments_lexer": "ipython3",
   "version": "3.6.8"
  },
  "toc": {
   "base_numbering": 1,
   "nav_menu": {},
   "number_sections": true,
   "sideBar": true,
   "skip_h1_title": false,
   "title_cell": "Table of Contents",
   "title_sidebar": "Contents",
   "toc_cell": false,
   "toc_position": {},
   "toc_section_display": true,
   "toc_window_display": true
  },
  "varInspector": {
   "cols": {
    "lenName": 16,
    "lenType": 16,
    "lenVar": 40
   },
   "kernels_config": {
    "python": {
     "delete_cmd_postfix": "",
     "delete_cmd_prefix": "del ",
     "library": "var_list.py",
     "varRefreshCmd": "print(var_dic_list())"
    },
    "r": {
     "delete_cmd_postfix": ") ",
     "delete_cmd_prefix": "rm(",
     "library": "var_list.r",
     "varRefreshCmd": "cat(var_dic_list()) "
    }
   },
   "types_to_exclude": [
    "module",
    "function",
    "builtin_function_or_method",
    "instance",
    "_Feature"
   ],
   "window_display": false
  }
 },
 "nbformat": 4,
 "nbformat_minor": 2
}
